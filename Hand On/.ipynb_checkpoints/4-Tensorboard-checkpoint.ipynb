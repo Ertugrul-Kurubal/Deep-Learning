{
 "cells": [
  {
   "cell_type": "markdown",
   "metadata": {},
   "source": [
    "## Tensorboard\n",
    "\n",
    "---\n",
    "\n",
    "**NOTE: You must watch the corresponding video to understand this lecture. This notebook can't serve as a full guide. Please watch the video BEFORE posting questions to the QA forum.**\n",
    "\n",
    "---\n",
    "\n",
    "Let's explore the built in data visualization capabilities that come with Tensorboard.\n",
    "\n",
    "Full official tutorial available here: https://www.tensorflow.org/tensorboard/get_started\n",
    "\n",
    "### Data"
   ]
  },
  {
   "cell_type": "code",
   "execution_count": 1,
   "metadata": {},
   "outputs": [],
   "source": [
    "import pandas as pd\n",
    "import numpy as np"
   ]
  },
  {
   "cell_type": "code",
   "execution_count": 2,
   "metadata": {},
   "outputs": [],
   "source": [
    "df = pd.read_csv(\"cancer_classification.csv\")"
   ]
  },
  {
   "cell_type": "markdown",
   "metadata": {},
   "source": [
    "### Train Test Split"
   ]
  },
  {
   "cell_type": "code",
   "execution_count": 3,
   "metadata": {},
   "outputs": [],
   "source": [
    "X = df.drop('benign_0__mal_1',axis=1).values\n",
    "y = df['benign_0__mal_1'].values"
   ]
  },
  {
   "cell_type": "code",
   "execution_count": 4,
   "metadata": {},
   "outputs": [],
   "source": [
    "from sklearn.model_selection import train_test_split"
   ]
  },
  {
   "cell_type": "code",
   "execution_count": 5,
   "metadata": {},
   "outputs": [],
   "source": [
    "X_train, X_test, y_train, y_test = train_test_split(X,y,test_size=0.25,random_state=101)"
   ]
  },
  {
   "cell_type": "markdown",
   "metadata": {},
   "source": [
    "### Scaling Data"
   ]
  },
  {
   "cell_type": "code",
   "execution_count": 6,
   "metadata": {},
   "outputs": [],
   "source": [
    "from sklearn.preprocessing import MinMaxScaler"
   ]
  },
  {
   "cell_type": "code",
   "execution_count": 7,
   "metadata": {},
   "outputs": [],
   "source": [
    "scaler = MinMaxScaler()"
   ]
  },
  {
   "cell_type": "code",
   "execution_count": 8,
   "metadata": {},
   "outputs": [
    {
     "data": {
      "text/plain": [
       "MinMaxScaler()"
      ]
     },
     "execution_count": 8,
     "metadata": {},
     "output_type": "execute_result"
    }
   ],
   "source": [
    "scaler.fit(X_train)"
   ]
  },
  {
   "cell_type": "code",
   "execution_count": 9,
   "metadata": {},
   "outputs": [],
   "source": [
    "X_train = scaler.transform(X_train)\n",
    "X_test = scaler.transform(X_test)"
   ]
  },
  {
   "cell_type": "markdown",
   "metadata": {},
   "source": [
    "### Creating the Model"
   ]
  },
  {
   "cell_type": "code",
   "execution_count": 10,
   "metadata": {},
   "outputs": [],
   "source": [
    "import tensorflow as tf\n",
    "from tensorflow.keras.models import Sequential\n",
    "from tensorflow.keras.layers import Dense, Activation,Dropout"
   ]
  },
  {
   "cell_type": "code",
   "execution_count": 11,
   "metadata": {},
   "outputs": [],
   "source": [
    "from tensorflow.keras.callbacks import EarlyStopping,TensorBoard"
   ]
  },
  {
   "cell_type": "code",
   "execution_count": 12,
   "metadata": {},
   "outputs": [],
   "source": [
    "early_stop = EarlyStopping(monitor='val_loss', mode='min', verbose=1, patience=25)"
   ]
  },
  {
   "cell_type": "code",
   "execution_count": 13,
   "metadata": {},
   "outputs": [
    {
     "data": {
      "text/plain": [
       "'/media/kurubal/SSD/Data Scientist/Data Science/Deep-Learning/Hand On'"
      ]
     },
     "execution_count": 13,
     "metadata": {},
     "output_type": "execute_result"
    }
   ],
   "source": [
    "pwd"
   ]
  },
  {
   "cell_type": "markdown",
   "metadata": {},
   "source": [
    "### Creating the Tensorboard Callback\n",
    "\n",
    "TensorBoard is a visualization tool provided with TensorFlow.\n",
    "\n",
    "This callback logs events for TensorBoard, including:\n",
    "* Metrics summary plots\n",
    "* Training graph visualization\n",
    "* Activation histograms\n",
    "* Sampled profiling\n",
    "\n",
    "If you have installed TensorFlow with pip, you should be able\n",
    "to launch TensorBoard from the command line:\n",
    "\n",
    "```sh\n",
    "tensorboard --logdir=path_to_your_logs\n",
    "```\n",
    "\n",
    "You can find more information about TensorBoard\n",
    "[here](https://www.tensorflow.org/tensorboard/).\n",
    "\n",
    "    Arguments:\n",
    "        log_dir: the path of the directory where to save the log files to be\n",
    "          parsed by TensorBoard.\n",
    "        histogram_freq: frequency (in epochs) at which to compute activation and\n",
    "          weight histograms for the layers of the model. If set to 0, histograms\n",
    "          won't be computed. Validation data (or split) must be specified for\n",
    "          histogram visualizations.\n",
    "        write_graph: whether to visualize the graph in TensorBoard. The log file\n",
    "          can become quite large when write_graph is set to True.\n",
    "        write_images: whether to write model weights to visualize as image in\n",
    "          TensorBoard.\n",
    "        update_freq: `'batch'` or `'epoch'` or integer. When using `'batch'`,\n",
    "          writes the losses and metrics to TensorBoard after each batch. The same\n",
    "          applies for `'epoch'`. If using an integer, let's say `1000`, the\n",
    "          callback will write the metrics and losses to TensorBoard every 1000\n",
    "          samples. Note that writing too frequently to TensorBoard can slow down\n",
    "          your training.\n",
    "        profile_batch: Profile the batch to sample compute characteristics. By\n",
    "          default, it will profile the second batch. Set profile_batch=0 to\n",
    "          disable profiling. Must run in TensorFlow eager mode.\n",
    "        embeddings_freq: frequency (in epochs) at which embedding layers will\n",
    "          be visualized. If set to 0, embeddings won't be visualized.\n",
    "       "
   ]
  },
  {
   "cell_type": "code",
   "execution_count": 14,
   "metadata": {},
   "outputs": [],
   "source": [
    "from datetime import datetime"
   ]
  },
  {
   "cell_type": "code",
   "execution_count": 15,
   "metadata": {},
   "outputs": [
    {
     "data": {
      "text/plain": [
       "'2021-08-02--1849'"
      ]
     },
     "execution_count": 15,
     "metadata": {},
     "output_type": "execute_result"
    }
   ],
   "source": [
    "datetime.now().strftime(\"%Y-%m-%d--%H%M\")"
   ]
  },
  {
   "cell_type": "code",
   "execution_count": 16,
   "metadata": {},
   "outputs": [],
   "source": [
    "# WINDOWS: Use \"logs\\\\fit\"\n",
    "# MACOS/LINUX: Use \"logs/fit\"\n",
    "\n",
    "log_directory = 'logs/fit'\n",
    "\n",
    "# OPTIONAL: ADD A TIMESTAMP FOR UNIQUE FOLDER\n",
    "# timestamp = datetime.now().strftime(\"%Y-%m-%d--%H%M\")\n",
    "# log_directory = log_directory + '\\\\' + timestamp\n",
    "\n",
    "\n",
    "board = TensorBoard(log_dir=log_directory,histogram_freq=1,\n",
    "    write_graph=True,\n",
    "    write_images=True,\n",
    "    update_freq='epoch',\n",
    "    profile_batch=2,\n",
    "    embeddings_freq=1)"
   ]
  },
  {
   "cell_type": "markdown",
   "metadata": {},
   "source": [
    "Now create the model layers:"
   ]
  },
  {
   "cell_type": "code",
   "execution_count": 17,
   "metadata": {},
   "outputs": [],
   "source": [
    "model = Sequential()\n",
    "model.add(Dense(units=30,activation='relu'))\n",
    "model.add(Dropout(0.5))\n",
    "model.add(Dense(units=15,activation='relu'))\n",
    "model.add(Dropout(0.5))\n",
    "model.add(Dense(units=1,activation='sigmoid'))\n",
    "model.compile(loss='binary_crossentropy', optimizer='adam')"
   ]
  },
  {
   "cell_type": "markdown",
   "metadata": {},
   "source": [
    "### Train the Model"
   ]
  },
  {
   "cell_type": "code",
   "execution_count": 18,
   "metadata": {},
   "outputs": [
    {
     "name": "stdout",
     "output_type": "stream",
     "text": [
      "Epoch 1/600\n",
      "14/14 [==============================] - 0s 8ms/step - loss: 0.6856 - val_loss: 0.6699\n",
      "Epoch 2/600\n",
      "14/14 [==============================] - 0s 2ms/step - loss: 0.6633 - val_loss: 0.6526\n",
      "Epoch 3/600\n",
      "14/14 [==============================] - 0s 2ms/step - loss: 0.6504 - val_loss: 0.6372\n",
      "Epoch 4/600\n",
      "14/14 [==============================] - 0s 1ms/step - loss: 0.6425 - val_loss: 0.6215\n",
      "Epoch 5/600\n",
      "14/14 [==============================] - 0s 1ms/step - loss: 0.6157 - val_loss: 0.6046\n",
      "Epoch 6/600\n",
      "14/14 [==============================] - 0s 2ms/step - loss: 0.5958 - val_loss: 0.5834\n",
      "Epoch 7/600\n",
      "14/14 [==============================] - 0s 2ms/step - loss: 0.6048 - val_loss: 0.5576\n",
      "Epoch 8/600\n",
      "14/14 [==============================] - 0s 2ms/step - loss: 0.5644 - val_loss: 0.5312\n",
      "Epoch 9/600\n",
      "14/14 [==============================] - 0s 1ms/step - loss: 0.5477 - val_loss: 0.5004\n",
      "Epoch 10/600\n",
      "14/14 [==============================] - 0s 2ms/step - loss: 0.5247 - val_loss: 0.4701\n",
      "Epoch 11/600\n",
      "14/14 [==============================] - 0s 2ms/step - loss: 0.5082 - val_loss: 0.4391\n",
      "Epoch 12/600\n",
      "14/14 [==============================] - 0s 2ms/step - loss: 0.4915 - val_loss: 0.4101\n",
      "Epoch 13/600\n",
      "14/14 [==============================] - 0s 2ms/step - loss: 0.4624 - val_loss: 0.3841\n",
      "Epoch 14/600\n",
      "14/14 [==============================] - 0s 2ms/step - loss: 0.4479 - val_loss: 0.3614\n",
      "Epoch 15/600\n",
      "14/14 [==============================] - 0s 2ms/step - loss: 0.4242 - val_loss: 0.3401\n",
      "Epoch 16/600\n",
      "14/14 [==============================] - 0s 1ms/step - loss: 0.4203 - val_loss: 0.3200\n",
      "Epoch 17/600\n",
      "14/14 [==============================] - 0s 2ms/step - loss: 0.3933 - val_loss: 0.3053\n",
      "Epoch 18/600\n",
      "14/14 [==============================] - 0s 1ms/step - loss: 0.3976 - val_loss: 0.2875\n",
      "Epoch 19/600\n",
      "14/14 [==============================] - 0s 1ms/step - loss: 0.3751 - val_loss: 0.2741\n",
      "Epoch 20/600\n",
      "14/14 [==============================] - 0s 2ms/step - loss: 0.3583 - val_loss: 0.2537\n",
      "Epoch 21/600\n",
      "14/14 [==============================] - 0s 2ms/step - loss: 0.3460 - val_loss: 0.2437\n",
      "Epoch 22/600\n",
      "14/14 [==============================] - 0s 1ms/step - loss: 0.3478 - val_loss: 0.2351\n",
      "Epoch 23/600\n",
      "14/14 [==============================] - 0s 1ms/step - loss: 0.3322 - val_loss: 0.2295\n",
      "Epoch 24/600\n",
      "14/14 [==============================] - 0s 2ms/step - loss: 0.3014 - val_loss: 0.2119\n",
      "Epoch 25/600\n",
      "14/14 [==============================] - 0s 2ms/step - loss: 0.2969 - val_loss: 0.2039\n",
      "Epoch 26/600\n",
      "14/14 [==============================] - 0s 2ms/step - loss: 0.2987 - val_loss: 0.2015\n",
      "Epoch 27/600\n",
      "14/14 [==============================] - 0s 2ms/step - loss: 0.2746 - val_loss: 0.1901\n",
      "Epoch 28/600\n",
      "14/14 [==============================] - 0s 2ms/step - loss: 0.2875 - val_loss: 0.1864\n",
      "Epoch 29/600\n",
      "14/14 [==============================] - 0s 2ms/step - loss: 0.2723 - val_loss: 0.1836\n",
      "Epoch 30/600\n",
      "14/14 [==============================] - 0s 2ms/step - loss: 0.2491 - val_loss: 0.1787\n",
      "Epoch 31/600\n",
      "14/14 [==============================] - 0s 1ms/step - loss: 0.2450 - val_loss: 0.1727\n",
      "Epoch 32/600\n",
      "14/14 [==============================] - 0s 2ms/step - loss: 0.2633 - val_loss: 0.1644\n",
      "Epoch 33/600\n",
      "14/14 [==============================] - 0s 1ms/step - loss: 0.2630 - val_loss: 0.1657\n",
      "Epoch 34/600\n",
      "14/14 [==============================] - 0s 2ms/step - loss: 0.2381 - val_loss: 0.1582\n",
      "Epoch 35/600\n",
      "14/14 [==============================] - 0s 2ms/step - loss: 0.2379 - val_loss: 0.1531\n",
      "Epoch 36/600\n",
      "14/14 [==============================] - 0s 2ms/step - loss: 0.2296 - val_loss: 0.1496\n",
      "Epoch 37/600\n",
      "14/14 [==============================] - 0s 2ms/step - loss: 0.2134 - val_loss: 0.1477\n",
      "Epoch 38/600\n",
      "14/14 [==============================] - 0s 2ms/step - loss: 0.2052 - val_loss: 0.1496\n",
      "Epoch 39/600\n",
      "14/14 [==============================] - 0s 2ms/step - loss: 0.2340 - val_loss: 0.1409\n",
      "Epoch 40/600\n",
      "14/14 [==============================] - 0s 2ms/step - loss: 0.1888 - val_loss: 0.1381\n",
      "Epoch 41/600\n",
      "14/14 [==============================] - 0s 2ms/step - loss: 0.2224 - val_loss: 0.1364\n",
      "Epoch 42/600\n",
      "14/14 [==============================] - 0s 1ms/step - loss: 0.1923 - val_loss: 0.1382\n",
      "Epoch 43/600\n",
      "14/14 [==============================] - 0s 2ms/step - loss: 0.2081 - val_loss: 0.1319\n",
      "Epoch 44/600\n",
      "14/14 [==============================] - 0s 2ms/step - loss: 0.2014 - val_loss: 0.1310\n",
      "Epoch 45/600\n",
      "14/14 [==============================] - 0s 2ms/step - loss: 0.1940 - val_loss: 0.1408\n",
      "Epoch 46/600\n",
      "14/14 [==============================] - 0s 2ms/step - loss: 0.1976 - val_loss: 0.1287\n",
      "Epoch 47/600\n",
      "14/14 [==============================] - 0s 2ms/step - loss: 0.1946 - val_loss: 0.1260\n",
      "Epoch 48/600\n",
      "14/14 [==============================] - 0s 2ms/step - loss: 0.1923 - val_loss: 0.1230\n",
      "Epoch 49/600\n",
      "14/14 [==============================] - 0s 2ms/step - loss: 0.2013 - val_loss: 0.1250\n",
      "Epoch 50/600\n",
      "14/14 [==============================] - 0s 1ms/step - loss: 0.1735 - val_loss: 0.1181\n",
      "Epoch 51/600\n",
      "14/14 [==============================] - 0s 2ms/step - loss: 0.1734 - val_loss: 0.1162\n",
      "Epoch 52/600\n",
      "14/14 [==============================] - 0s 2ms/step - loss: 0.1885 - val_loss: 0.1160\n",
      "Epoch 53/600\n",
      "14/14 [==============================] - 0s 1ms/step - loss: 0.1754 - val_loss: 0.1162\n",
      "Epoch 54/600\n",
      "14/14 [==============================] - 0s 1ms/step - loss: 0.1711 - val_loss: 0.1191\n",
      "Epoch 55/600\n",
      "14/14 [==============================] - 0s 1ms/step - loss: 0.1787 - val_loss: 0.1189\n",
      "Epoch 56/600\n",
      "14/14 [==============================] - 0s 2ms/step - loss: 0.1610 - val_loss: 0.1214\n",
      "Epoch 57/600\n",
      "14/14 [==============================] - 0s 1ms/step - loss: 0.1389 - val_loss: 0.1131\n",
      "Epoch 58/600\n",
      "14/14 [==============================] - 0s 2ms/step - loss: 0.1639 - val_loss: 0.1167\n",
      "Epoch 59/600\n",
      "14/14 [==============================] - 0s 1ms/step - loss: 0.1797 - val_loss: 0.1148\n",
      "Epoch 60/600\n",
      "14/14 [==============================] - 0s 2ms/step - loss: 0.1155 - val_loss: 0.1109\n",
      "Epoch 61/600\n",
      "14/14 [==============================] - 0s 2ms/step - loss: 0.1587 - val_loss: 0.1149\n",
      "Epoch 62/600\n",
      "14/14 [==============================] - 0s 1ms/step - loss: 0.1609 - val_loss: 0.1083\n",
      "Epoch 63/600\n",
      "14/14 [==============================] - 0s 2ms/step - loss: 0.1394 - val_loss: 0.1091\n",
      "Epoch 64/600\n",
      "14/14 [==============================] - 0s 2ms/step - loss: 0.1577 - val_loss: 0.1250\n",
      "Epoch 65/600\n",
      "14/14 [==============================] - 0s 1ms/step - loss: 0.1359 - val_loss: 0.1196\n",
      "Epoch 66/600\n",
      "14/14 [==============================] - 0s 1ms/step - loss: 0.1500 - val_loss: 0.1060\n",
      "Epoch 67/600\n",
      "14/14 [==============================] - 0s 1ms/step - loss: 0.1425 - val_loss: 0.1095\n",
      "Epoch 68/600\n",
      "14/14 [==============================] - 0s 2ms/step - loss: 0.1558 - val_loss: 0.1078\n",
      "Epoch 69/600\n",
      "14/14 [==============================] - 0s 2ms/step - loss: 0.1527 - val_loss: 0.1070\n",
      "Epoch 70/600\n",
      "14/14 [==============================] - 0s 1ms/step - loss: 0.1402 - val_loss: 0.1087\n",
      "Epoch 71/600\n",
      "14/14 [==============================] - 0s 2ms/step - loss: 0.1539 - val_loss: 0.1108\n",
      "Epoch 72/600\n",
      "14/14 [==============================] - 0s 1ms/step - loss: 0.1511 - val_loss: 0.1106\n",
      "Epoch 73/600\n",
      "14/14 [==============================] - 0s 2ms/step - loss: 0.1452 - val_loss: 0.1138\n",
      "Epoch 74/600\n",
      "14/14 [==============================] - 0s 1ms/step - loss: 0.1328 - val_loss: 0.1135\n",
      "Epoch 75/600\n",
      "14/14 [==============================] - 0s 2ms/step - loss: 0.1424 - val_loss: 0.1094\n",
      "Epoch 76/600\n",
      "14/14 [==============================] - 0s 1ms/step - loss: 0.1212 - val_loss: 0.1129\n",
      "Epoch 77/600\n",
      "14/14 [==============================] - 0s 1ms/step - loss: 0.1360 - val_loss: 0.1212\n",
      "Epoch 78/600\n",
      "14/14 [==============================] - 0s 2ms/step - loss: 0.1248 - val_loss: 0.1095\n",
      "Epoch 79/600\n",
      "14/14 [==============================] - 0s 2ms/step - loss: 0.1281 - val_loss: 0.1068\n",
      "Epoch 80/600\n",
      "14/14 [==============================] - 0s 2ms/step - loss: 0.1244 - val_loss: 0.1040\n",
      "Epoch 81/600\n",
      "14/14 [==============================] - 0s 2ms/step - loss: 0.1455 - val_loss: 0.1113\n",
      "Epoch 82/600\n",
      "14/14 [==============================] - 0s 2ms/step - loss: 0.1315 - val_loss: 0.1149\n",
      "Epoch 83/600\n"
     ]
    },
    {
     "name": "stdout",
     "output_type": "stream",
     "text": [
      "14/14 [==============================] - 0s 2ms/step - loss: 0.1114 - val_loss: 0.1053\n",
      "Epoch 84/600\n",
      "14/14 [==============================] - 0s 1ms/step - loss: 0.1208 - val_loss: 0.1033\n",
      "Epoch 85/600\n",
      "14/14 [==============================] - 0s 2ms/step - loss: 0.1061 - val_loss: 0.1102\n",
      "Epoch 86/600\n",
      "14/14 [==============================] - 0s 2ms/step - loss: 0.1099 - val_loss: 0.1019\n",
      "Epoch 87/600\n",
      "14/14 [==============================] - 0s 2ms/step - loss: 0.1321 - val_loss: 0.1041\n",
      "Epoch 88/600\n",
      "14/14 [==============================] - 0s 1ms/step - loss: 0.1152 - val_loss: 0.1091\n",
      "Epoch 89/600\n",
      "14/14 [==============================] - 0s 1ms/step - loss: 0.1244 - val_loss: 0.1093\n",
      "Epoch 90/600\n",
      "14/14 [==============================] - 0s 1ms/step - loss: 0.1091 - val_loss: 0.1161\n",
      "Epoch 91/600\n",
      "14/14 [==============================] - 0s 2ms/step - loss: 0.1313 - val_loss: 0.1029\n",
      "Epoch 92/600\n",
      "14/14 [==============================] - 0s 2ms/step - loss: 0.1414 - val_loss: 0.1128\n",
      "Epoch 93/600\n",
      "14/14 [==============================] - 0s 1ms/step - loss: 0.0954 - val_loss: 0.1074\n",
      "Epoch 94/600\n",
      "14/14 [==============================] - 0s 2ms/step - loss: 0.1143 - val_loss: 0.1090\n",
      "Epoch 95/600\n",
      "14/14 [==============================] - 0s 1ms/step - loss: 0.1143 - val_loss: 0.1020\n",
      "Epoch 96/600\n",
      "14/14 [==============================] - 0s 2ms/step - loss: 0.1225 - val_loss: 0.1133\n",
      "Epoch 97/600\n",
      "14/14 [==============================] - 0s 2ms/step - loss: 0.1293 - val_loss: 0.1026\n",
      "Epoch 98/600\n",
      "14/14 [==============================] - 0s 1ms/step - loss: 0.1233 - val_loss: 0.1039\n",
      "Epoch 99/600\n",
      "14/14 [==============================] - 0s 1ms/step - loss: 0.1055 - val_loss: 0.1020\n",
      "Epoch 100/600\n",
      "14/14 [==============================] - 0s 2ms/step - loss: 0.1237 - val_loss: 0.1035\n",
      "Epoch 101/600\n",
      "14/14 [==============================] - 0s 2ms/step - loss: 0.1129 - val_loss: 0.1172\n",
      "Epoch 102/600\n",
      "14/14 [==============================] - 0s 2ms/step - loss: 0.1100 - val_loss: 0.1108\n",
      "Epoch 103/600\n",
      "14/14 [==============================] - 0s 2ms/step - loss: 0.1149 - val_loss: 0.1030\n",
      "Epoch 104/600\n",
      "14/14 [==============================] - 0s 1ms/step - loss: 0.1124 - val_loss: 0.1017\n",
      "Epoch 105/600\n",
      "14/14 [==============================] - 0s 2ms/step - loss: 0.1003 - val_loss: 0.1189\n",
      "Epoch 106/600\n",
      "14/14 [==============================] - 0s 2ms/step - loss: 0.1102 - val_loss: 0.1085\n",
      "Epoch 107/600\n",
      "14/14 [==============================] - 0s 2ms/step - loss: 0.1017 - val_loss: 0.1034\n",
      "Epoch 108/600\n",
      "14/14 [==============================] - 0s 2ms/step - loss: 0.0842 - val_loss: 0.1103\n",
      "Epoch 109/600\n",
      "14/14 [==============================] - 0s 2ms/step - loss: 0.0917 - val_loss: 0.1036\n",
      "Epoch 110/600\n",
      "14/14 [==============================] - 0s 2ms/step - loss: 0.1233 - val_loss: 0.1038\n",
      "Epoch 111/600\n",
      "14/14 [==============================] - 0s 1ms/step - loss: 0.0988 - val_loss: 0.1106\n",
      "Epoch 112/600\n",
      "14/14 [==============================] - 0s 2ms/step - loss: 0.0970 - val_loss: 0.1112\n",
      "Epoch 113/600\n",
      "14/14 [==============================] - 0s 2ms/step - loss: 0.1188 - val_loss: 0.1245\n",
      "Epoch 114/600\n",
      "14/14 [==============================] - 0s 2ms/step - loss: 0.1028 - val_loss: 0.1059\n",
      "Epoch 115/600\n",
      "14/14 [==============================] - 0s 2ms/step - loss: 0.0925 - val_loss: 0.1121\n",
      "Epoch 116/600\n",
      "14/14 [==============================] - 0s 2ms/step - loss: 0.1144 - val_loss: 0.1132\n",
      "Epoch 117/600\n",
      "14/14 [==============================] - 0s 1ms/step - loss: 0.1124 - val_loss: 0.1119\n",
      "Epoch 118/600\n",
      "14/14 [==============================] - 0s 1ms/step - loss: 0.0978 - val_loss: 0.1064\n",
      "Epoch 119/600\n",
      "14/14 [==============================] - 0s 1ms/step - loss: 0.0872 - val_loss: 0.1041\n",
      "Epoch 120/600\n",
      "14/14 [==============================] - 0s 1ms/step - loss: 0.0961 - val_loss: 0.1043\n",
      "Epoch 121/600\n",
      "14/14 [==============================] - 0s 2ms/step - loss: 0.1052 - val_loss: 0.1118\n",
      "Epoch 122/600\n",
      "14/14 [==============================] - 0s 2ms/step - loss: 0.0931 - val_loss: 0.1139\n",
      "Epoch 123/600\n",
      "14/14 [==============================] - 0s 2ms/step - loss: 0.0947 - val_loss: 0.1056\n",
      "Epoch 124/600\n",
      "14/14 [==============================] - 0s 2ms/step - loss: 0.1035 - val_loss: 0.1080\n",
      "Epoch 125/600\n",
      "14/14 [==============================] - 0s 2ms/step - loss: 0.0991 - val_loss: 0.1060\n",
      "Epoch 126/600\n",
      "14/14 [==============================] - 0s 2ms/step - loss: 0.0804 - val_loss: 0.1063\n",
      "Epoch 127/600\n",
      "14/14 [==============================] - 0s 2ms/step - loss: 0.0937 - val_loss: 0.1141\n",
      "Epoch 128/600\n",
      "14/14 [==============================] - 0s 1ms/step - loss: 0.0937 - val_loss: 0.1039\n",
      "Epoch 129/600\n",
      "14/14 [==============================] - 0s 2ms/step - loss: 0.1149 - val_loss: 0.1234\n",
      "Epoch 00129: early stopping\n"
     ]
    },
    {
     "data": {
      "text/plain": [
       "<tensorflow.python.keras.callbacks.History at 0x7fd3f0135880>"
      ]
     },
     "execution_count": 18,
     "metadata": {},
     "output_type": "execute_result"
    }
   ],
   "source": [
    "model.fit(x=X_train, \n",
    "          y=y_train, \n",
    "          epochs=600,\n",
    "          validation_data=(X_test, y_test), verbose=1,\n",
    "          callbacks=[early_stop,board]\n",
    "          )"
   ]
  },
  {
   "cell_type": "markdown",
   "metadata": {},
   "source": [
    "### Running Tensorboard\n"
   ]
  },
  {
   "cell_type": "markdown",
   "metadata": {},
   "source": [
    "### Running through the Command Line\n",
    "\n",
    "**Watch video to see how to run Tensorboard through a command line call.**"
   ]
  },
  {
   "cell_type": "markdown",
   "metadata": {},
   "source": [
    "Tensorboard will run locally in your browser at [http://localhost:6006/](http://localhost:6006/)\n"
   ]
  },
  {
   "cell_type": "code",
   "execution_count": 19,
   "metadata": {},
   "outputs": [
    {
     "name": "stdout",
     "output_type": "stream",
     "text": [
      "logs/fit\n"
     ]
    }
   ],
   "source": [
    "print(log_directory)"
   ]
  },
  {
   "cell_type": "code",
   "execution_count": 20,
   "metadata": {},
   "outputs": [
    {
     "data": {
      "text/plain": [
       "'/media/kurubal/SSD/Data Scientist/Data Science/Deep-Learning/Hand On'"
      ]
     },
     "execution_count": 20,
     "metadata": {},
     "output_type": "execute_result"
    }
   ],
   "source": [
    "pwd"
   ]
  },
  {
   "cell_type": "markdown",
   "metadata": {},
   "source": [
    "### Use cd at your command line to change directory to the file path reported back by pwd or your current .py file location.\n",
    "### Then run this code at your command line or terminal"
   ]
  },
  {
   "cell_type": "code",
   "execution_count": null,
   "metadata": {},
   "outputs": [],
   "source": [
    "tensorboard --logdir logs/fit \n",
    "# Bu kod pwd ile elde edilen notebook un olduğu klasörde (/media/kurubal/SSD/Data Scientist/Data Science/Deep-Learning/Hand On) çalıştırılmalı. "
   ]
  }
 ],
 "metadata": {
  "kernelspec": {
   "display_name": "Python 3",
   "language": "python",
   "name": "python3"
  },
  "language_info": {
   "codemirror_mode": {
    "name": "ipython",
    "version": 3
   },
   "file_extension": ".py",
   "mimetype": "text/x-python",
   "name": "python",
   "nbconvert_exporter": "python",
   "pygments_lexer": "ipython3",
   "version": "3.8.10"
  }
 },
 "nbformat": 4,
 "nbformat_minor": 2
}
