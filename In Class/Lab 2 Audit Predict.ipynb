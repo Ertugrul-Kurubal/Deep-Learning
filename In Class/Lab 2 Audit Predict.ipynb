{
 "cells": [
  {
   "cell_type": "markdown",
   "id": "929b1400",
   "metadata": {},
   "source": [
    "___\n",
    "\n",
    "<p style=\"text-align: center;\"><img src=\"https://docs.google.com/uc?id=1lY0Uj5R04yMY3-ZppPWxqCr5pvBLYPnV\" class=\"img-fluid\" alt=\"CLRSWY\"></p>\n",
    "\n",
    "___"
   ]
  },
  {
   "cell_type": "markdown",
   "id": "a31eafe6",
   "metadata": {},
   "source": [
    "\n",
    "\n",
    "<h1 style=\"font-size:300%;background-color:red;text-align: center;\">Audit Prediction with DL</h1>\n",
    "\n",
    "\n"
   ]
  },
  {
   "cell_type": "code",
   "execution_count": null,
   "id": "06b82668",
   "metadata": {},
   "outputs": [],
   "source": [
    "import pyforest"
   ]
  },
  {
   "cell_type": "code",
   "execution_count": null,
   "id": "571fbd43",
   "metadata": {},
   "outputs": [],
   "source": [
    "df=pd.read_csv(\"Audit data.csv\")"
   ]
  },
  {
   "cell_type": "markdown",
   "id": "339b548c",
   "metadata": {},
   "source": [
    "* https://data.mendeley.com/datasets/mmcczp3g3y/3"
   ]
  },
  {
   "cell_type": "code",
   "execution_count": null,
   "id": "93fe9f23",
   "metadata": {},
   "outputs": [],
   "source": [
    "df.head()"
   ]
  },
  {
   "cell_type": "code",
   "execution_count": null,
   "id": "c2af6e97",
   "metadata": {},
   "outputs": [],
   "source": [
    "df.info()"
   ]
  },
  {
   "cell_type": "markdown",
   "id": "e663b5f7",
   "metadata": {},
   "source": [
    "# EDA "
   ]
  },
  {
   "cell_type": "code",
   "execution_count": null,
   "id": "ed0adce0",
   "metadata": {},
   "outputs": [],
   "source": [
    "df.isnull().sum().sort_values().tail(10)\n",
    "# check num missing values   "
   ]
  },
  {
   "cell_type": "code",
   "execution_count": null,
   "id": "81e96637",
   "metadata": {
    "scrolled": true
   },
   "outputs": [],
   "source": [
    "# check number of unique values in features\n",
    "for col in df.columns:\n",
    "    print(col,\":\",df[col].nunique())"
   ]
  },
  {
   "cell_type": "code",
   "execution_count": null,
   "id": "79c74d89-f969-4ca0-a660-462a3dc7e380",
   "metadata": {},
   "outputs": [],
   "source": [
    "# Detect and define columns created from other columns with the help of suplementary pdf\n",
    "for col in df.select_dtypes(exclude=\"object\").columns:\n",
    "    print(col,\":\",df[col].sum())"
   ]
  },
  {
   "cell_type": "code",
   "execution_count": null,
   "id": "4c760f38",
   "metadata": {},
   "outputs": [],
   "source": [
    "AOP_list = pd.Series([1,5,9,12,15,22,111,113,116,124,201,213,214,219,220,223,224,229,230,336,337,338,339,343,610,615,622,633,638,650,671,680,688])"
   ]
  },
  {
   "cell_type": "code",
   "execution_count": null,
   "id": "f64be590",
   "metadata": {},
   "outputs": [],
   "source": []
  },
  {
   "cell_type": "code",
   "execution_count": null,
   "id": "f9709487",
   "metadata": {
    "scrolled": true
   },
   "outputs": [],
   "source": [
    "drop_AOP = AOP_list.apply(lambda x: \"AOP\"+str(x) if len(str(x))==3 else \n",
    "                          (\"AOP00\"+str(x) if len(str(x))==1 else \"AOP0\"+str(x)) )\n",
    "\n",
    "drop_AOP"
   ]
  },
  {
   "cell_type": "code",
   "execution_count": null,
   "id": "4923b6a5",
   "metadata": {},
   "outputs": [],
   "source": [
    "# Drop columns that are created from others\n",
    "df.drop(drop_AOP,axis=1,inplace=True)"
   ]
  },
  {
   "cell_type": "code",
   "execution_count": null,
   "id": "0da66d39",
   "metadata": {},
   "outputs": [],
   "source": [
    "# Check target column distribution\n",
    "df.Audit_opinion.value_counts(dropna=False)"
   ]
  },
  {
   "cell_type": "code",
   "execution_count": null,
   "id": "1aabec3c",
   "metadata": {},
   "outputs": [],
   "source": [
    "df.Audit_opinion_1_code.value_counts(dropna=False)"
   ]
  },
  {
   "cell_type": "code",
   "execution_count": null,
   "id": "6b57d8c0",
   "metadata": {},
   "outputs": [],
   "source": [
    "# Focus on missing values\n",
    "df.Auditor_switch.value_counts(dropna=False)"
   ]
  },
  {
   "cell_type": "code",
   "execution_count": null,
   "id": "05a54709",
   "metadata": {
    "scrolled": true
   },
   "outputs": [],
   "source": [
    "df.dropna( how =\"any\", subset=[\"Audit_opinion\"]).isnull().sum().sort_values()"
   ]
  },
  {
   "cell_type": "code",
   "execution_count": null,
   "id": "a02a412a",
   "metadata": {},
   "outputs": [],
   "source": [
    "# Fill nan values in Auditor_switch with \"unknown\" to save 4088 rows\n",
    "df[\"Auditor_switch\"]=df.Auditor_switch.fillna(\"unknown\")"
   ]
  },
  {
   "cell_type": "code",
   "execution_count": null,
   "id": "4daf724f",
   "metadata": {},
   "outputs": [],
   "source": [
    "# Drop rows that contains missing value in target column\n",
    "df.dropna( how =\"any\", subset=[\"Audit_opinion\"],inplace=True)"
   ]
  },
  {
   "cell_type": "code",
   "execution_count": null,
   "id": "61c8feb2",
   "metadata": {},
   "outputs": [],
   "source": [
    "df.isnull().sum().sort_values()"
   ]
  },
  {
   "cell_type": "code",
   "execution_count": null,
   "id": "2173e259",
   "metadata": {},
   "outputs": [],
   "source": [
    "# Drop rest of rows which contains missing values\n",
    "df.dropna(inplace=True)"
   ]
  },
  {
   "cell_type": "code",
   "execution_count": null,
   "id": "8a256129",
   "metadata": {},
   "outputs": [],
   "source": [
    "df.isnull().sum().sort_values()"
   ]
  },
  {
   "cell_type": "code",
   "execution_count": null,
   "id": "0926aaa9",
   "metadata": {},
   "outputs": [],
   "source": [
    "df.shape"
   ]
  },
  {
   "cell_type": "code",
   "execution_count": null,
   "id": "dc80d3f8",
   "metadata": {},
   "outputs": [],
   "source": [
    "pd.set_option(\"max_info_columns\", 500)\n",
    "df.info()\n",
    "pd.reset_option(\"max_info_columns\")"
   ]
  },
  {
   "cell_type": "code",
   "execution_count": null,
   "id": "d32c170b",
   "metadata": {},
   "outputs": [],
   "source": [
    "df"
   ]
  },
  {
   "cell_type": "code",
   "execution_count": null,
   "id": "3648e187",
   "metadata": {},
   "outputs": [],
   "source": [
    "# Convert \"Year_of_establishment\" feature object to datetime\n",
    "df[\"Year_of_establishment\"] = pd.to_datetime(df[\"Year_of_establishment\"])"
   ]
  },
  {
   "cell_type": "code",
   "execution_count": null,
   "id": "cacec1c8",
   "metadata": {},
   "outputs": [],
   "source": [
    "df[\"Year_of_establishment\"].dt.year"
   ]
  },
  {
   "cell_type": "code",
   "execution_count": null,
   "id": "742fae27",
   "metadata": {},
   "outputs": [],
   "source": [
    "# Transform \"Year_of_establishment\" column into only year \n",
    "df[\"Year_of_establishment\"] = df[\"Year_of_establishment\"].dt.year"
   ]
  },
  {
   "cell_type": "code",
   "execution_count": null,
   "id": "3ca63f03",
   "metadata": {},
   "outputs": [],
   "source": [
    "# Create a new column \"company_age\" and fill it with the ages of the companies in the report year\n",
    "df[\"company_age\"] = df[\"Year\"] - df[\"Year_of_establishment\"]\n",
    "df[\"company_age\"]"
   ]
  },
  {
   "cell_type": "code",
   "execution_count": null,
   "id": "954cbdec",
   "metadata": {},
   "outputs": [],
   "source": [
    "# Drop year related columns to reduce complexity\n",
    "df.drop([\"Year\", \"Year_of_establishment\"],axis=1, inplace=True)"
   ]
  },
  {
   "cell_type": "code",
   "execution_count": null,
   "id": "1d185417",
   "metadata": {},
   "outputs": [],
   "source": [
    "# Check and drop columns that you assume prediction power is too low.\n",
    "pd.set_option(\"max_info_columns\", 500)\n",
    "df.info()\n",
    "pd.reset_option(\"max_info_columns\")"
   ]
  },
  {
   "cell_type": "code",
   "execution_count": null,
   "id": "3cda9dd2",
   "metadata": {
    "jupyter": {
     "outputs_hidden": true
    },
    "tags": []
   },
   "outputs": [],
   "source": [
    "for col in df.columns:\n",
    "    print(col,\":\",df[col].nunique())"
   ]
  },
  {
   "cell_type": "code",
   "execution_count": null,
   "id": "1aa7ae64",
   "metadata": {},
   "outputs": [],
   "source": [
    "df.drop([\"Company_id\",\"Unique_identifier\",\"Company_name\"],axis=1,inplace=True)"
   ]
  },
  {
   "cell_type": "code",
   "execution_count": null,
   "id": "323b34f0",
   "metadata": {
    "jupyter": {
     "outputs_hidden": true
    },
    "tags": []
   },
   "outputs": [],
   "source": [
    "pd.set_option(\"max_info_columns\", 500)\n",
    "df.info()\n",
    "pd.reset_option(\"max_info_columns\")"
   ]
  },
  {
   "cell_type": "code",
   "execution_count": null,
   "id": "75d6c631",
   "metadata": {},
   "outputs": [],
   "source": [
    "df.drop([\"CEO_id\",\"Auditor_name\",\"Auditor_id\"],axis=1,inplace=True)"
   ]
  },
  {
   "cell_type": "code",
   "execution_count": null,
   "id": "d6083ccd",
   "metadata": {},
   "outputs": [],
   "source": [
    "# Detect and correct the type of object columns\n",
    "df.select_dtypes(include=\"object\")"
   ]
  },
  {
   "cell_type": "code",
   "execution_count": null,
   "id": "fce8f388",
   "metadata": {},
   "outputs": [],
   "source": [
    "df.head()"
   ]
  },
  {
   "cell_type": "code",
   "execution_count": null,
   "id": "81ccd00a",
   "metadata": {},
   "outputs": [],
   "source": [
    "df[\"Industry_code\"] = df[\"Industry_code\"].astype(\"str\")\n",
    "df[\"Bankruptcy\"] = df[\"Bankruptcy\"].astype(\"str\")\n",
    "df[\"Big4\"] = df[\"Big4\"].astype(\"str\")\n",
    "df[\"Restructuring\"] = df[\"Restructuring\"].astype(\"str\")"
   ]
  },
  {
   "cell_type": "code",
   "execution_count": null,
   "id": "80868e4e",
   "metadata": {},
   "outputs": [],
   "source": []
  },
  {
   "cell_type": "code",
   "execution_count": null,
   "id": "24557f05",
   "metadata": {},
   "outputs": [],
   "source": [
    "df.select_dtypes(include=\"object\")"
   ]
  },
  {
   "cell_type": "code",
   "execution_count": null,
   "id": "500de1e3",
   "metadata": {},
   "outputs": [],
   "source": [
    "pd.set_option(\"max_info_columns\", 500)\n",
    "df.info()\n",
    "pd.reset_option(\"max_info_columns\")"
   ]
  },
  {
   "cell_type": "code",
   "execution_count": null,
   "id": "d18eb308",
   "metadata": {},
   "outputs": [],
   "source": [
    "df.describe()"
   ]
  },
  {
   "cell_type": "code",
   "execution_count": null,
   "id": "7b518078",
   "metadata": {},
   "outputs": [],
   "source": [
    "# Check the corelation between target and feature columns\n",
    "import plotly.express as px\n",
    "fig = px.bar(x=df.corr()[\"Audit_opinion_1_code\"].sort_values(), y= df.corr()[\"Audit_opinion_1_code\"].sort_values().index)\n",
    "fig.show()\n",
    "# df.corr()[\"Audit_opinion_1_code\"].sort_values().plot.barh(figsize=(20,20))"
   ]
  },
  {
   "cell_type": "code",
   "execution_count": null,
   "id": "07bebbf7",
   "metadata": {
    "scrolled": false
   },
   "outputs": [],
   "source": [
    "# Check multicollinearity\n",
    "fig = px.imshow(df.corr(),\n",
    "                x= df.select_dtypes(exclude=\"object\").columns,\n",
    "                y= df.select_dtypes(exclude=\"object\").columns\n",
    "               )\n",
    "fig.update_xaxes(side=\"top\")\n",
    "fig.show()"
   ]
  },
  {
   "cell_type": "code",
   "execution_count": null,
   "id": "758b68fd",
   "metadata": {},
   "outputs": [],
   "source": [
    "# Check multicollinearity\n",
    "plt.figure(figsize=(20,20))\n",
    "sns.heatmap(df.corr(),cmap=\"coolwarm\")"
   ]
  },
  {
   "cell_type": "raw",
   "id": "37c350eb",
   "metadata": {},
   "source": [
    "# You can try to predict by only numeric features\n",
    "df_num = df.select_dtypes(exclude=\"object\")"
   ]
  },
  {
   "cell_type": "code",
   "execution_count": null,
   "id": "25294207",
   "metadata": {},
   "outputs": [],
   "source": [
    "from sklearn.model_selection import train_test_split\n",
    "from sklearn.preprocessing import MinMaxScaler\n",
    "import tensorflow as tf\n",
    "from tensorflow.keras.models import Sequential\n",
    "from tensorflow.keras.layers import Dense, Activation\n",
    "from tensorflow.keras.callbacks import EarlyStopping\n",
    "from tensorflow.keras.layers import Dropout\n",
    "from sklearn.metrics import classification_report, confusion_matrix"
   ]
  },
  {
   "cell_type": "markdown",
   "id": "afe8f516",
   "metadata": {},
   "source": [
    "# Data Preprocessing "
   ]
  },
  {
   "cell_type": "raw",
   "id": "f6f35b6a",
   "metadata": {},
   "source": [
    "# You can try to predict by only numeric features\n",
    "X = df_num.drop([\"Audit_opinion_1_code\"],axis=1)\n",
    "y = df_num.Audit_opinion_1_code"
   ]
  },
  {
   "cell_type": "code",
   "execution_count": null,
   "id": "d2b4f4b9",
   "metadata": {},
   "outputs": [],
   "source": [
    "# No need to use values attribute bc we will scale the data\n",
    "X = df.drop([\"Audit_opinion_1_code\",\"Audit_opinion\"],axis=1)\n",
    "y = df.Audit_opinion_1_code"
   ]
  },
  {
   "cell_type": "code",
   "execution_count": null,
   "id": "38715b7a",
   "metadata": {},
   "outputs": [],
   "source": [
    "X = pd.get_dummies(X,drop_first=True)"
   ]
  },
  {
   "cell_type": "code",
   "execution_count": null,
   "id": "4de8d1e8",
   "metadata": {},
   "outputs": [],
   "source": [
    "X.shape"
   ]
  },
  {
   "cell_type": "code",
   "execution_count": null,
   "id": "c366130f",
   "metadata": {},
   "outputs": [],
   "source": [
    "X_train, X_test, y_train, y_test = train_test_split(X,y, \n",
    "                                                    test_size=0.20,random_state=6)"
   ]
  },
  {
   "cell_type": "code",
   "execution_count": null,
   "id": "6d44e188",
   "metadata": {},
   "outputs": [],
   "source": [
    "scaler = MinMaxScaler()\n",
    "X_train_scaled = scaler.fit_transform(X_train)\n",
    "X_test_scaled = scaler.transform(X_test)"
   ]
  },
  {
   "cell_type": "markdown",
   "id": "7951ecd2",
   "metadata": {},
   "source": [
    "# Model-1 (Straight Forward)"
   ]
  },
  {
   "cell_type": "code",
   "execution_count": null,
   "id": "6535ac63",
   "metadata": {},
   "outputs": [],
   "source": [
    "model = Sequential()\n",
    "model.add(Dense(48, activation=\"relu\"))\n",
    "model.add(Dense(24, activation=\"relu\"))\n",
    "model.add(Dense(12, activation=\"relu\"))\n",
    "model.add(Dense(1, activation=\"sigmoid\"))\n",
    "model.compile(loss=\"binary_crossentropy\", optimizer=\"adam\", metrics=[\"Recall\"])"
   ]
  },
  {
   "cell_type": "code",
   "execution_count": null,
   "id": "f12117e6",
   "metadata": {
    "scrolled": true
   },
   "outputs": [],
   "source": [
    "model.fit(x=X_train_scaled, y=y_train, epochs=100, \n",
    "          validation_data=(X_test_scaled, y_test), verbose=1)"
   ]
  },
  {
   "cell_type": "markdown",
   "id": "b1a47309",
   "metadata": {},
   "source": [
    "## Evaluate-1"
   ]
  },
  {
   "cell_type": "code",
   "execution_count": null,
   "id": "41d5b426",
   "metadata": {},
   "outputs": [],
   "source": [
    "model_loss = pd.DataFrame(model.history.history)\n",
    "model_loss.head()"
   ]
  },
  {
   "cell_type": "code",
   "execution_count": null,
   "id": "b1544a7f",
   "metadata": {},
   "outputs": [],
   "source": [
    "model_loss.plot(figsize=(15,6))"
   ]
  },
  {
   "cell_type": "code",
   "execution_count": null,
   "id": "d1fe4480",
   "metadata": {},
   "outputs": [],
   "source": [
    "predictions = model.predict_classes(X_test_scaled)\n",
    "predictions_train = model.predict_classes(X_train_scaled)"
   ]
  },
  {
   "cell_type": "code",
   "execution_count": null,
   "id": "629214a5",
   "metadata": {},
   "outputs": [],
   "source": [
    "print(confusion_matrix(y_test, predictions))\n",
    "print(classification_report(y_test, predictions))\n",
    "\n",
    "print(confusion_matrix(y_train, predictions_train))\n",
    "print(classification_report(y_train, predictions_train))"
   ]
  },
  {
   "cell_type": "markdown",
   "id": "41305e38",
   "metadata": {},
   "source": [
    "#  Model-2 (Early Stop)"
   ]
  },
  {
   "cell_type": "code",
   "execution_count": null,
   "id": "3ef519bd",
   "metadata": {},
   "outputs": [],
   "source": [
    "model = Sequential()\n",
    "model.add(Dense(48, activation=\"relu\"))\n",
    "model.add(Dense(24, activation=\"relu\"))\n",
    "model.add(Dense(12, activation=\"relu\"))\n",
    "model.add(Dense(1, activation=\"sigmoid\"))\n",
    "model.compile(loss=\"binary_crossentropy\", optimizer=\"adam\", metrics=[\"Recall\"])"
   ]
  },
  {
   "cell_type": "code",
   "execution_count": null,
   "id": "9d57b2f6",
   "metadata": {},
   "outputs": [],
   "source": [
    "pd.Series(y_train).value_counts(normalize=True)"
   ]
  },
  {
   "cell_type": "code",
   "execution_count": null,
   "id": "61201c77",
   "metadata": {},
   "outputs": [],
   "source": [
    "pd.Series(y_train).value_counts(normalize=True)\n",
    "\n",
    "weights = {0:32, 1:68}\n",
    "weights"
   ]
  },
  {
   "cell_type": "code",
   "execution_count": null,
   "id": "29733396",
   "metadata": {},
   "outputs": [],
   "source": [
    "early_stop = EarlyStopping(monitor=\"val_loss\", mode=\"auto\", verbose=1, \n",
    "                           patience = 50,restore_best_weights=True)"
   ]
  },
  {
   "cell_type": "code",
   "execution_count": null,
   "id": "8cd384ee",
   "metadata": {
    "scrolled": true
   },
   "outputs": [],
   "source": [
    "model.fit(x=X_train_scaled, y=y_train, epochs=150, \n",
    "          validation_data=(X_test_scaled, y_test), \n",
    "          verbose=1,class_weight = weights, callbacks=[early_stop])"
   ]
  },
  {
   "cell_type": "markdown",
   "id": "db9570f8",
   "metadata": {},
   "source": [
    "## Evaluate-2"
   ]
  },
  {
   "cell_type": "code",
   "execution_count": null,
   "id": "b15dd309",
   "metadata": {},
   "outputs": [],
   "source": [
    "model_loss = pd.DataFrame(model.history.history)\n",
    "model_loss.tail()"
   ]
  },
  {
   "cell_type": "code",
   "execution_count": null,
   "id": "77be26ac",
   "metadata": {},
   "outputs": [],
   "source": [
    "model_loss.plot(figsize=(15,6))"
   ]
  },
  {
   "cell_type": "markdown",
   "id": "2b26ba86",
   "metadata": {},
   "source": [
    "* https://machinelearningmastery.com/learning-curves-for-diagnosing-machine-learning-model-performance/"
   ]
  },
  {
   "cell_type": "code",
   "execution_count": null,
   "id": "3d18920d",
   "metadata": {},
   "outputs": [],
   "source": [
    "predictions = model.predict_classes(X_test_scaled)\n",
    "predictions_train = model.predict_classes(X_train_scaled)\n",
    "\n",
    "print(confusion_matrix(y_test, predictions))\n",
    "print(classification_report(y_test, predictions))\n",
    "\n",
    "print(confusion_matrix(y_train, predictions_train))\n",
    "print(classification_report(y_train, predictions_train))"
   ]
  },
  {
   "cell_type": "markdown",
   "id": "e2d5395c",
   "metadata": {},
   "source": [
    "# Model-3 (Early Stop with Drop Out)"
   ]
  },
  {
   "cell_type": "code",
   "execution_count": null,
   "id": "7974f277",
   "metadata": {},
   "outputs": [],
   "source": [
    "model = Sequential()\n",
    "model.add(Dense(24, activation=\"relu\"))\n",
    "model.add(Dropout(0.5))\n",
    "\n",
    "model.add(Dense(24, activation=\"relu\"))\n",
    "model.add(Dropout(0.2))\n",
    "\n",
    "model.add(Dense(12, activation=\"relu\"))\n",
    "model.add(Dropout(0.4))\n",
    "\n",
    "\n",
    "model.add(Dense(1, activation=\"sigmoid\"))\n",
    "\n",
    "opt1 = tf.keras.optimizers.Adam(learning_rate=0.001)\n",
    "opt2 = tf.keras.optimizers.Adamax(learning_rate=0.001)\n",
    "model.compile(loss=\"binary_crossentropy\", optimizer=opt1, metrics=[\"Recall\"])"
   ]
  },
  {
   "cell_type": "code",
   "execution_count": null,
   "id": "cbcc2088",
   "metadata": {},
   "outputs": [],
   "source": []
  },
  {
   "cell_type": "code",
   "execution_count": null,
   "id": "e32a8c97",
   "metadata": {},
   "outputs": [],
   "source": [
    "early_stop = EarlyStopping(monitor=\"val_loss\", mode=\"min\", \n",
    "                           verbose=1, patience = 25, restore_best_weights=True)"
   ]
  },
  {
   "cell_type": "code",
   "execution_count": null,
   "id": "a47dfae5",
   "metadata": {
    "scrolled": true
   },
   "outputs": [],
   "source": [
    "model.fit(x=X_train_scaled, y=y_train, epochs=600, \n",
    "          validation_data=(X_test_scaled, y_test), \n",
    "          verbose=1, class_weight = weights, callbacks=[early_stop])"
   ]
  },
  {
   "cell_type": "markdown",
   "id": "c936006f",
   "metadata": {},
   "source": [
    "## Evaluate-3"
   ]
  },
  {
   "cell_type": "code",
   "execution_count": null,
   "id": "988ef420",
   "metadata": {},
   "outputs": [],
   "source": [
    "model_loss = pd.DataFrame(model.history.history)\n",
    "model_loss.tail()"
   ]
  },
  {
   "cell_type": "code",
   "execution_count": null,
   "id": "c44e62fb",
   "metadata": {},
   "outputs": [],
   "source": [
    "\n",
    "model_loss.plot(figsize=(15,6))"
   ]
  },
  {
   "cell_type": "code",
   "execution_count": null,
   "id": "ace38459",
   "metadata": {},
   "outputs": [],
   "source": [
    "predictions = model.predict_classes(X_test_scaled)\n",
    "predictions_train = model.predict_classes(X_train_scaled)\n",
    "\n",
    "print(confusion_matrix(y_test, predictions))\n",
    "print(classification_report(y_test, predictions))\n",
    "\n",
    "print(confusion_matrix(y_train, predictions_train))\n",
    "print(classification_report(y_train, predictions_train))"
   ]
  },
  {
   "cell_type": "markdown",
   "id": "ec2c6ff0",
   "metadata": {},
   "source": [
    "---\n",
    "---"
   ]
  },
  {
   "cell_type": "markdown",
   "id": "08ae658a",
   "metadata": {},
   "source": [
    "# ML Comparision"
   ]
  },
  {
   "cell_type": "markdown",
   "id": "577f96e7",
   "metadata": {},
   "source": [
    "## XGBoost"
   ]
  },
  {
   "cell_type": "code",
   "execution_count": null,
   "id": "29e16eb6",
   "metadata": {},
   "outputs": [],
   "source": [
    "from xgboost import XGBClassifier"
   ]
  },
  {
   "cell_type": "code",
   "execution_count": null,
   "id": "f049529c",
   "metadata": {},
   "outputs": [],
   "source": [
    "xgb = XGBClassifier()"
   ]
  },
  {
   "cell_type": "code",
   "execution_count": null,
   "id": "1c2335dd",
   "metadata": {},
   "outputs": [],
   "source": [
    "xgb.fit(X_train_scaled,y_train)"
   ]
  },
  {
   "cell_type": "code",
   "execution_count": null,
   "id": "1d5ae61a",
   "metadata": {},
   "outputs": [],
   "source": [
    "predictions = xgb.predict(X_test_scaled)\n",
    "print(confusion_matrix(y_test, predictions))\n",
    "print(classification_report(y_test, predictions))"
   ]
  },
  {
   "cell_type": "markdown",
   "id": "b09b5d25",
   "metadata": {},
   "source": [
    "## My lovely Logistic Regression"
   ]
  },
  {
   "cell_type": "code",
   "execution_count": null,
   "id": "ae9f6489",
   "metadata": {},
   "outputs": [],
   "source": [
    "from sklearn.linear_model import LogisticRegression"
   ]
  },
  {
   "cell_type": "code",
   "execution_count": null,
   "id": "76465a60",
   "metadata": {},
   "outputs": [],
   "source": [
    "log_mod = LogisticRegression(class_weight=\"balanced\", max_iter=5000)"
   ]
  },
  {
   "cell_type": "code",
   "execution_count": null,
   "id": "52da64db",
   "metadata": {},
   "outputs": [],
   "source": [
    "log_mod.fit(X_train_scaled,y_train)"
   ]
  },
  {
   "cell_type": "code",
   "execution_count": null,
   "id": "6d62c572",
   "metadata": {},
   "outputs": [],
   "source": [
    "predictions = log_mod.predict(X_test_scaled)\n",
    "print(confusion_matrix(y_test, predictions))\n",
    "print(classification_report(y_test, predictions))"
   ]
  },
  {
   "cell_type": "code",
   "execution_count": null,
   "id": "a99af2f3",
   "metadata": {},
   "outputs": [],
   "source": []
  }
 ],
 "metadata": {
  "kernelspec": {
   "display_name": "Python 3",
   "language": "python",
   "name": "python3"
  },
  "language_info": {
   "codemirror_mode": {
    "name": "ipython",
    "version": 3
   },
   "file_extension": ".py",
   "mimetype": "text/x-python",
   "name": "python",
   "nbconvert_exporter": "python",
   "pygments_lexer": "ipython3",
   "version": "3.8.8"
  }
 },
 "nbformat": 4,
 "nbformat_minor": 5
}
